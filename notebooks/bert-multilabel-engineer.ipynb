{
  "cells": [
    {
      "cell_type": "markdown",
      "metadata": {},
      "source": [
        "# Chapter 3: Model"
      ]
    },
    {
      "cell_type": "code",
      "execution_count": null,
      "metadata": {
        "colab": {
          "base_uri": "https://localhost:8080/"
        },
        "id": "n5rkyL2dH-nn",
        "outputId": "c68fe4b6-bdbd-45fb-ec6a-2331d45f6ab2"
      },
      "outputs": [],
      "source": [
        "!pip install -U accelerate\n",
        "!pip install -U transformers\n",
        "!pip install datasets"
      ]
    },
    {
      "cell_type": "markdown",
      "metadata": {},
      "source": [
        "## Connect to google drive"
      ]
    },
    {
      "cell_type": "code",
      "execution_count": null,
      "metadata": {
        "colab": {
          "base_uri": "https://localhost:8080/"
        },
        "id": "rB7DAYPVIJcN",
        "outputId": "79dd700a-a233-464f-a49e-909d6b137f08"
      },
      "outputs": [
        {
          "name": "stdout",
          "output_type": "stream",
          "text": [
            "Mounted at /content/drive\n"
          ]
        }
      ],
      "source": [
        "from google.colab import drive\n",
        "import os\n",
        "drive.mount('/content/drive')\n",
        "os.chdir('drive/My Drive/contents')"
      ]
    },
    {
      "cell_type": "markdown",
      "metadata": {},
      "source": [
        "## Import & set seed"
      ]
    },
    {
      "cell_type": "code",
      "execution_count": null,
      "metadata": {
        "id": "jmzU0QmbK4xP"
      },
      "outputs": [],
      "source": [
        "seed = 21\n",
        "\n",
        "import torch\n",
        "torch.manual_seed(seed)\n",
        "torch.use_deterministic_algorithms(True)\n",
        "\n",
        "import random\n",
        "random.seed(seed)\n",
        "\n",
        "import numpy as np\n",
        "np.random.seed(seed)\n",
        "\n",
        "\n",
        "import transformers\n",
        "transformers.enable_full_determinism(seed)"
      ]
    },
    {
      "cell_type": "code",
      "execution_count": null,
      "metadata": {
        "id": "HxM-4M92K4xP"
      },
      "outputs": [],
      "source": [
        "import pandas as pd\n",
        "from datasets import load_dataset\n",
        "from sklearn.metrics import  f1_score, hamming_loss\n",
        "from transformers import BertForSequenceClassification, BertTokenizer, TrainingArguments, Trainer"
      ]
    },
    {
      "cell_type": "markdown",
      "metadata": {},
      "source": [
        "## Set hyperparameters"
      ]
    },
    {
      "cell_type": "code",
      "execution_count": null,
      "metadata": {
        "id": "9ltENK67K4xQ"
      },
      "outputs": [],
      "source": [
        "checkpoint = \"bert-base-uncased\"\n",
        "data_path = \"train_for_student_clean.csv\"\n",
        "labels = [ \"CE\", \"ENV\", \"BME\", \"PE\", \"METAL\", \"ME\", \"EE\", \"CPE\", \"OPTIC\",\"NANO\", \"CHE\", \"MATENG\", \"AGRI\", \"EDU\", \"IE\", \"SAFETY\", \"MATH\", \"MATSCI\"]\n",
        "MAX_LEN = 246\n",
        "TRAIN_BATCH_SIZE = 2\n",
        "VALID_BATCH_SIZE = 2\n",
        "TEST_BATCH_SIZE = 2\n",
        "EPOCHS = 21\n",
        "LEARNING_RATE = 5e-05\n",
        "THRESHOLD = 0.3\n",
        "WEIGHT_DECAY = 0.001"
      ]
    },
    {
      "cell_type": "markdown",
      "metadata": {},
      "source": [
        "## Load model"
      ]
    },
    {
      "cell_type": "code",
      "execution_count": null,
      "metadata": {
        "colab": {
          "base_uri": "https://localhost:8080/"
        },
        "id": "FIZkXguaK4xQ",
        "outputId": "7ddf3637-d542-4d13-c573-f6446f2d3052"
      },
      "outputs": [],
      "source": [
        "tokenizer = BertTokenizer.from_pretrained(checkpoint)\n",
        "model = BertForSequenceClassification.from_pretrained(checkpoint, num_labels=len(labels),\n",
        "                                                            problem_type=\"multi_label_classification\")"
      ]
    },
    {
      "cell_type": "markdown",
      "metadata": {},
      "source": [
        "## Prepare the data"
      ]
    },
    {
      "cell_type": "code",
      "execution_count": null,
      "metadata": {
        "colab": {
          "base_uri": "https://localhost:8080/",
          "height": 49,
          "referenced_widgets": [
            "0e0a03bda6594e22b853d6e5fcdf1686",
            "baaa47ac5e974d5bb8e901f26e6e9974",
            "7b95e20e846f4b9490ad6db80383d513",
            "50fd6cffc45a4eb685487235d61addf1",
            "85a12ec50e404ba1808c4e3b846d7d63",
            "5acad1f0270243538bbf5e64ffe8f821",
            "78d268859ea14e538539044d537a90b6",
            "723d3b6936184a6fa21818492a68f6c7",
            "24cb9206411f497b8da83fec1af309ec",
            "5a7d326fc11d46e58a2c77054b7c2886",
            "033c5e20d082452883632d3beec9db0b"
          ]
        },
        "id": "U2A6soQNK4xQ",
        "outputId": "e4d3552a-690f-446c-a85a-ff439bb41e71"
      },
      "outputs": [],
      "source": [
        "data = load_dataset(\"csv\", data_files=data_path)\n",
        "data = data[\"train\"].train_test_split(test_size=0.1)"
      ]
    },
    {
      "cell_type": "code",
      "execution_count": null,
      "metadata": {
        "colab": {
          "base_uri": "https://localhost:8080/",
          "height": 81,
          "referenced_widgets": [
            "0d071707d5604108b6f174165f877cd8",
            "7fa0da17f8fb4548a2ec3860a255c749",
            "b8d6dec7454e4ace8ce88c1b26e3b4ae",
            "cd7a48ed061245eb9ef6682a47c42c02",
            "c8bea292e03d4dceb88f57a4efac43ea",
            "66a53550bc1c442e87641cae14f87ad6",
            "2583937a70f64fddb66ea2000c000a5a",
            "4d439f2ddac14a4aa6f2108b25750e9e",
            "44b8ce99d3b9486fabba24299c151646",
            "ca744d898651417c8a1e7e0c53e0ba35",
            "575ab37305a847b5bde7986d2e562559",
            "6654e3cbedcd441bb2479fd5fb62b8ef",
            "c447004b12844d3497ccae3e0f1ae7e5",
            "bf0c120b40c14958941a7f43727e562a",
            "f635d7f9e23e4e3ca66e13ea8d5f83d4",
            "5c3192809da64a12b199f2f4afd0ff05",
            "18776b7e48e74f1890643837a713616a",
            "6200874e82c047848ea61f34f615b7f3",
            "0c32b9c7b8bc4e759306c1960e8af60c",
            "ad920a3520764f0cb654280c872f4772",
            "dd1ebf9428494eda9ad6e006dd4888e7",
            "4137bafdaef7409aa70610aefd0c26dc"
          ]
        },
        "id": "PoO5F5IeQaW3",
        "outputId": "39419890-6b4b-4f63-fa0d-ecffe82f0d79"
      },
      "outputs": [],
      "source": [
        "def preprocess_function(examples):\n",
        "    tokenized_inputs = tokenizer(examples[\"text\"], padding=\"max_length\", truncation=True, max_length=MAX_LEN)\n",
        "    label_dict = {}\n",
        "    for label in labels:\n",
        "        label_dict[label] = examples[label]\n",
        "    tokenized_inputs[\"labels\"] = [[float(label_dict[label][i]) for label in labels] for i in range(len(examples[\"text\"]))]\n",
        "    return tokenized_inputs\n",
        "\n",
        "tokenized_data = data.map(preprocess_function, batched=True)\n"
      ]
    },
    {
      "cell_type": "markdown",
      "metadata": {},
      "source": [
        "## Set the computation metrics to be F1 score and Hamming loss."
      ]
    },
    {
      "cell_type": "code",
      "execution_count": null,
      "metadata": {
        "id": "99zQQUTcK4xR"
      },
      "outputs": [],
      "source": [
        "def compute_metrics(eval_pred):\n",
        "    predictions, ref = eval_pred\n",
        "    sigmoid = torch.nn.Sigmoid()\n",
        "    probs = sigmoid(torch.Tensor(predictions))\n",
        "\n",
        "    y_pred = np.zeros(probs.shape)\n",
        "    y_pred[np.where(probs>=THRESHOLD)] = 1\n",
        "\n",
        "    metrics = {\n",
        "        \"f1\": f1_score(ref, y_pred, average = 'macro', zero_division=0),\n",
        "        \"hamming_loss\": hamming_loss(ref, y_pred),\n",
        "    }\n",
        "    return metrics"
      ]
    },
    {
      "cell_type": "markdown",
      "metadata": {},
      "source": [
        "\n",
        "## Trainning"
      ]
    },
    {
      "cell_type": "code",
      "execution_count": null,
      "metadata": {
        "id": "0QuJd7p9K4xR"
      },
      "outputs": [],
      "source": [
        "training_args = TrainingArguments(\n",
        "    output_dir = './results',\n",
        "    evaluation_strategy=\"epoch\",\n",
        "    learning_rate=LEARNING_RATE,\n",
        "    per_device_train_batch_size=TRAIN_BATCH_SIZE,\n",
        "    per_device_eval_batch_size=VALID_BATCH_SIZE,\n",
        "    num_train_epochs=EPOCHS,\n",
        "    save_total_limit=1,\n",
        "    fp16=True,\n",
        ")"
      ]
    },
    {
      "cell_type": "code",
      "execution_count": null,
      "metadata": {
        "id": "SopJO1gpK4xR"
      },
      "outputs": [],
      "source": [
        "trainer = Trainer(\n",
        "    model=model,\n",
        "    args=training_args,\n",
        "    train_dataset=tokenized_data[\"train\"],\n",
        "    eval_dataset=tokenized_data[\"test\"],\n",
        "    tokenizer=tokenizer,\n",
        "    compute_metrics=compute_metrics,\n",
        ")"
      ]
    },
    {
      "cell_type": "code",
      "execution_count": null,
      "metadata": {
        "colab": {
          "base_uri": "https://localhost:8080/",
          "height": 768
        },
        "id": "sP1J0BhWK4xR",
        "outputId": "83c90d78-20b1-4c0c-9f12-8bdbc694cc7f"
      },
      "outputs": [
        {
          "data": {
            "text/html": [
              "\n",
              "    <div>\n",
              "      \n",
              "      <progress value='4263' max='4263' style='width:300px; height:20px; vertical-align: middle;'></progress>\n",
              "      [4263/4263 17:34, Epoch 21/21]\n",
              "    </div>\n",
              "    <table border=\"1\" class=\"dataframe\">\n",
              "  <thead>\n",
              " <tr style=\"text-align: left;\">\n",
              "      <th>Epoch</th>\n",
              "      <th>Training Loss</th>\n",
              "      <th>Validation Loss</th>\n",
              "      <th>F1</th>\n",
              "      <th>Hamming Loss</th>\n",
              "      <th>Runtime</th>\n",
              "      <th>Samples Per Second</th>\n",
              "      <th>Steps Per Second</th>\n",
              "    </tr>\n",
              "  </thead>\n",
              "  <tbody>\n",
              "    <tr>\n",
              "      <td>1</td>\n",
              "      <td>No log</td>\n",
              "      <td>0.314494</td>\n",
              "      <td>0.224889</td>\n",
              "      <td>0.150966</td>\n",
              "      <td>1.152900</td>\n",
              "      <td>39.900000</td>\n",
              "      <td>19.950000</td>\n",
              "    </tr>\n",
              "    <tr>\n",
              "      <td>2</td>\n",
              "      <td>No log</td>\n",
              "      <td>0.290898</td>\n",
              "      <td>0.297800</td>\n",
              "      <td>0.143720</td>\n",
              "      <td>1.189000</td>\n",
              "      <td>38.688000</td>\n",
              "      <td>19.344000</td>\n",
              "    </tr>\n",
              "    <tr>\n",
              "      <td>3</td>\n",
              "      <td>0.368000</td>\n",
              "      <td>0.264773</td>\n",
              "      <td>0.466495</td>\n",
              "      <td>0.117150</td>\n",
              "      <td>1.253000</td>\n",
              "      <td>36.713000</td>\n",
              "      <td>18.357000</td>\n",
              "    </tr>\n",
              "    <tr>\n",
              "      <td>4</td>\n",
              "      <td>0.368000</td>\n",
              "      <td>0.247246</td>\n",
              "      <td>0.479391</td>\n",
              "      <td>0.108696</td>\n",
              "      <td>1.177600</td>\n",
              "      <td>39.064000</td>\n",
              "      <td>19.532000</td>\n",
              "    </tr>\n",
              "    <tr>\n",
              "      <td>5</td>\n",
              "      <td>0.266800</td>\n",
              "      <td>0.227199</td>\n",
              "      <td>0.570766</td>\n",
              "      <td>0.101449</td>\n",
              "      <td>1.286300</td>\n",
              "      <td>35.762000</td>\n",
              "      <td>17.881000</td>\n",
              "    </tr>\n",
              "    <tr>\n",
              "      <td>6</td>\n",
              "      <td>0.266800</td>\n",
              "      <td>0.239932</td>\n",
              "      <td>0.577966</td>\n",
              "      <td>0.121981</td>\n",
              "      <td>1.173100</td>\n",
              "      <td>39.211000</td>\n",
              "      <td>19.605000</td>\n",
              "    </tr>\n",
              "    <tr>\n",
              "      <td>7</td>\n",
              "      <td>0.266800</td>\n",
              "      <td>0.231628</td>\n",
              "      <td>0.592698</td>\n",
              "      <td>0.099034</td>\n",
              "      <td>1.158800</td>\n",
              "      <td>39.695000</td>\n",
              "      <td>19.847000</td>\n",
              "    </tr>\n",
              "    <tr>\n",
              "      <td>8</td>\n",
              "      <td>0.189300</td>\n",
              "      <td>0.239384</td>\n",
              "      <td>0.637211</td>\n",
              "      <td>0.103865</td>\n",
              "      <td>1.381700</td>\n",
              "      <td>33.292000</td>\n",
              "      <td>16.646000</td>\n",
              "    </tr>\n",
              "    <tr>\n",
              "      <td>9</td>\n",
              "      <td>0.189300</td>\n",
              "      <td>0.236545</td>\n",
              "      <td>0.608009</td>\n",
              "      <td>0.100242</td>\n",
              "      <td>1.170200</td>\n",
              "      <td>39.310000</td>\n",
              "      <td>19.655000</td>\n",
              "    </tr>\n",
              "    <tr>\n",
              "      <td>10</td>\n",
              "      <td>0.129300</td>\n",
              "      <td>0.241901</td>\n",
              "      <td>0.557948</td>\n",
              "      <td>0.106280</td>\n",
              "      <td>1.788800</td>\n",
              "      <td>25.715000</td>\n",
              "      <td>12.858000</td>\n",
              "    </tr>\n",
              "    <tr>\n",
              "      <td>11</td>\n",
              "      <td>0.129300</td>\n",
              "      <td>0.236051</td>\n",
              "      <td>0.620834</td>\n",
              "      <td>0.092995</td>\n",
              "      <td>1.187100</td>\n",
              "      <td>38.750000</td>\n",
              "      <td>19.375000</td>\n",
              "    </tr>\n",
              "    <tr>\n",
              "      <td>12</td>\n",
              "      <td>0.129300</td>\n",
              "      <td>0.242032</td>\n",
              "      <td>0.586037</td>\n",
              "      <td>0.100242</td>\n",
              "      <td>1.223600</td>\n",
              "      <td>37.593000</td>\n",
              "      <td>18.796000</td>\n",
              "    </tr>\n",
              "    <tr>\n",
              "      <td>13</td>\n",
              "      <td>0.085600</td>\n",
              "      <td>0.242005</td>\n",
              "      <td>0.590316</td>\n",
              "      <td>0.103865</td>\n",
              "      <td>1.751300</td>\n",
              "      <td>26.267000</td>\n",
              "      <td>13.133000</td>\n",
              "    </tr>\n",
              "    <tr>\n",
              "      <td>14</td>\n",
              "      <td>0.085600</td>\n",
              "      <td>0.240049</td>\n",
              "      <td>0.620831</td>\n",
              "      <td>0.094203</td>\n",
              "      <td>2.187900</td>\n",
              "      <td>21.024000</td>\n",
              "      <td>10.512000</td>\n",
              "    </tr>\n",
              "    <tr>\n",
              "      <td>15</td>\n",
              "      <td>0.059900</td>\n",
              "      <td>0.242787</td>\n",
              "      <td>0.582370</td>\n",
              "      <td>0.096618</td>\n",
              "      <td>1.354400</td>\n",
              "      <td>33.963000</td>\n",
              "      <td>16.982000</td>\n",
              "    </tr>\n",
              "    <tr>\n",
              "      <td>16</td>\n",
              "      <td>0.059900</td>\n",
              "      <td>0.241507</td>\n",
              "      <td>0.620282</td>\n",
              "      <td>0.096618</td>\n",
              "      <td>1.141700</td>\n",
              "      <td>40.290000</td>\n",
              "      <td>20.145000</td>\n",
              "    </tr>\n",
              "    <tr>\n",
              "      <td>17</td>\n",
              "      <td>0.059900</td>\n",
              "      <td>0.239307</td>\n",
              "      <td>0.569547</td>\n",
              "      <td>0.095411</td>\n",
              "      <td>1.300200</td>\n",
              "      <td>35.380000</td>\n",
              "      <td>17.690000</td>\n",
              "    </tr>\n",
              "    <tr>\n",
              "      <td>18</td>\n",
              "      <td>0.046200</td>\n",
              "      <td>0.243935</td>\n",
              "      <td>0.602460</td>\n",
              "      <td>0.092995</td>\n",
              "      <td>1.124300</td>\n",
              "      <td>40.914000</td>\n",
              "      <td>20.457000</td>\n",
              "    </tr>\n",
              "    <tr>\n",
              "      <td>19</td>\n",
              "      <td>0.046200</td>\n",
              "      <td>0.243870</td>\n",
              "      <td>0.608433</td>\n",
              "      <td>0.090580</td>\n",
              "      <td>1.203600</td>\n",
              "      <td>38.219000</td>\n",
              "      <td>19.109000</td>\n",
              "    </tr>\n",
              "    <tr>\n",
              "      <td>20</td>\n",
              "      <td>0.038500</td>\n",
              "      <td>0.247260</td>\n",
              "      <td>0.597618</td>\n",
              "      <td>0.095411</td>\n",
              "      <td>2.541100</td>\n",
              "      <td>18.102000</td>\n",
              "      <td>9.051000</td>\n",
              "    </tr>\n",
              "    <tr>\n",
              "      <td>21</td>\n",
              "      <td>0.038500</td>\n",
              "      <td>0.246206</td>\n",
              "      <td>0.606484</td>\n",
              "      <td>0.091787</td>\n",
              "      <td>1.124200</td>\n",
              "      <td>40.918000</td>\n",
              "      <td>20.459000</td>\n",
              "    </tr>\n",
              "  </tbody>\n",
              "</table><p>"
            ],
            "text/plain": [
              "<IPython.core.display.HTML object>"
            ]
          },
          "metadata": {},
          "output_type": "display_data"
        },
        {
          "data": {
            "text/plain": [
              "TrainOutput(global_step=4263, training_loss=0.1410284964042232, metrics={'train_runtime': 1054.9406, 'train_samples_per_second': 8.062, 'train_steps_per_second': 4.041, 'total_flos': 1075327978966920.0, 'train_loss': 0.1410284964042232, 'epoch': 21.0})"
            ]
          },
          "execution_count": 28,
          "metadata": {},
          "output_type": "execute_result"
        }
      ],
      "source": [
        "trainer.train()"
      ]
    },
    {
      "cell_type": "markdown",
      "metadata": {},
      "source": [
        "# Chapter 4: Results"
      ]
    },
    {
      "cell_type": "code",
      "execution_count": null,
      "metadata": {
        "colab": {
          "base_uri": "https://localhost:8080/",
          "height": 159
        },
        "id": "T2V3AEgFK4xR",
        "outputId": "df13d2a7-7e04-4013-f81e-5202f106b8f0"
      },
      "outputs": [
        {
          "data": {
            "text/html": [
              "\n",
              "    <div>\n",
              "      \n",
              "      <progress value='23' max='23' style='width:300px; height:20px; vertical-align: middle;'></progress>\n",
              "      [23/23 00:01]\n",
              "    </div>\n",
              "    "
            ],
            "text/plain": [
              "<IPython.core.display.HTML object>"
            ]
          },
          "metadata": {},
          "output_type": "display_data"
        },
        {
          "data": {
            "text/plain": [
              "{'eval_loss': 0.23503780364990234,\n",
              " 'eval_f1': 0.6008195667678425,\n",
              " 'eval_hamming_loss': 0.08695652173913043,\n",
              " 'eval_runtime': 1.3919,\n",
              " 'eval_samples_per_second': 33.048,\n",
              " 'eval_steps_per_second': 16.524,\n",
              " 'epoch': 21.0}"
            ]
          },
          "execution_count": 37,
          "metadata": {},
          "output_type": "execute_result"
        }
      ],
      "source": [
        "trainer.evaluate()"
      ]
    },
    {
      "cell_type": "markdown",
      "metadata": {},
      "source": [
        "## Save model"
      ]
    },
    {
      "cell_type": "code",
      "execution_count": null,
      "metadata": {
        "id": "79CqPvwyTWlx"
      },
      "outputs": [],
      "source": [
        "trainer.save_model(\"bert-multilabel-engineer\")"
      ]
    },
    {
      "cell_type": "code",
      "execution_count": null,
      "metadata": {
        "id": "HR_TbcsCgpjq"
      },
      "outputs": [],
      "source": [
        "tokenizer.save_pretrained('bert-tokenizer')"
      ]
    },
    {
      "cell_type": "markdown",
      "metadata": {},
      "source": [
        "## Predictions"
      ]
    },
    {
      "cell_type": "code",
      "execution_count": null,
      "metadata": {
        "id": "IDFa29wVTfjX"
      },
      "outputs": [],
      "source": [
        "text = \"Comparative Electrical Energy Yield Performance of Micro-Inverter PV Systems Using a Machine Learning Approach Based on a Mixed-Effect Model of Real Datasets © 2013 IEEE.Long-term energy evaluation of PV systems that use micro-inverter configuration (micro-inverter PV systems) is currently unclear due to the lacking of sufficient longitudinal measurement data and appropriate analysis method. The poor knowledge about impact and aging of micro-inverter PV system affects the comprehension and accuracy of PV design and simulation tools. In this paper, we propose a machine learning approach based on the mixed-effect model to compare and evaluate the electrical energy yield of micro-inverter PV systems. The analyzed results using a 5-year period data of PV stations located at Concord, Massachusetts, USA showed that there is no significant difference in yearly electrical energy yield of micro-inverter PV systems under shading and non-shading condition. This finding has confirmed the advantage of micro-inverter PV system over the other PV types. In addition, our work is the first study that identified the average degradation rate of micro-inverter PV of 3% per year (95% confidence intervals: 2%-4.3%). Our findings in this study have extended substantially the comprehensive understanding of micro-inverter PV system.\"\n",
        "\n",
        "encoding = tokenizer(text, return_tensors='pt')\n",
        "encoding.to(trainer.model.device)\n",
        "\n",
        "outputs = trainer.model(**encoding)"
      ]
    },
    {
      "cell_type": "code",
      "execution_count": null,
      "metadata": {
        "colab": {
          "base_uri": "https://localhost:8080/"
        },
        "id": "_vciKQxPVt-h",
        "outputId": "4deac403-36cd-45f9-818e-68a4f6acb1a8"
      },
      "outputs": [
        {
          "data": {
            "text/plain": [
              "array([0., 0., 0., 1., 0., 0., 1., 0., 0., 0., 1., 0., 0., 0., 0., 0., 0.,\n",
              "       0.])"
            ]
          },
          "execution_count": 19,
          "metadata": {},
          "output_type": "execute_result"
        }
      ],
      "source": [
        "sigmoid = torch.nn.Sigmoid()\n",
        "probs = sigmoid(outputs.logits[0].cpu())\n",
        "preds = np.zeros(probs.shape)\n",
        "preds[np.where(probs>=0.3)] = 1\n",
        "preds"
      ]
    },
    {
      "cell_type": "code",
      "execution_count": null,
      "metadata": {
        "id": "WdDvClR466Py"
      },
      "outputs": [],
      "source": [
        "test_data = pd.read_csv('./test_for_student_clean.csv')\n",
        "\n",
        "\n",
        "def predict_labels(text):\n",
        "    encoding = tokenizer(text,\n",
        "                         return_tensors='pt',\n",
        "                         padding=\"max_length\",\n",
        "                         max_length=MAX_LEN,\n",
        "                         truncation=True\n",
        "                         )\n",
        "    encoding.to(trainer.model.device)\n",
        "\n",
        "    outputs = trainer.model(**encoding)\n",
        "    sigmoid = torch.nn.Sigmoid()\n",
        "    probs = sigmoid(outputs.logits[0].cpu())\n",
        "    preds = np.zeros(probs.shape)\n",
        "    preds[np.where(probs >= 0.3)] = 1\n",
        "    return preds.astype(int)\n",
        "\n",
        "\n",
        "prediction_data = []\n",
        "for idx, row in test_data.iterrows():\n",
        "    id_ = row['id']\n",
        "    text = row['text']\n",
        "    predictions = predict_labels(text).tolist()\n",
        "    prediction_data.append([id_] + predictions)\n",
        "\n",
        "prediction_df = pd.DataFrame(prediction_data, columns=['id'] + labels)\n",
        "prediction_path = 'prediction.csv'\n",
        "prediction_df.to_csv(prediction_path, index=False)"
      ]
    }
  ],
  "metadata": {
    "accelerator": "GPU",
    "colab": {
      "gpuType": "T4",
      "provenance": []
    },
    "kernelspec": {
      "display_name": "Python 3",
      "name": "python3"
    },
    "language_info": {
      "name": "python",
      "version": "3.11.8"
    },
    "widgets": {
      "application/vnd.jupyter.widget-state+json": {
        "033c5e20d082452883632d3beec9db0b": {
          "model_module": "@jupyter-widgets/controls",
          "model_module_version": "1.5.0",
          "model_name": "DescriptionStyleModel",
          "state": {
            "_model_module": "@jupyter-widgets/controls",
            "_model_module_version": "1.5.0",
            "_model_name": "DescriptionStyleModel",
            "_view_count": null,
            "_view_module": "@jupyter-widgets/base",
            "_view_module_version": "1.2.0",
            "_view_name": "StyleView",
            "description_width": ""
          }
        },
        "0c32b9c7b8bc4e759306c1960e8af60c": {
          "model_module": "@jupyter-widgets/base",
          "model_module_version": "1.2.0",
          "model_name": "LayoutModel",
          "state": {
            "_model_module": "@jupyter-widgets/base",
            "_model_module_version": "1.2.0",
            "_model_name": "LayoutModel",
            "_view_count": null,
            "_view_module": "@jupyter-widgets/base",
            "_view_module_version": "1.2.0",
            "_view_name": "LayoutView",
            "align_content": null,
            "align_items": null,
            "align_self": null,
            "border": null,
            "bottom": null,
            "display": null,
            "flex": null,
            "flex_flow": null,
            "grid_area": null,
            "grid_auto_columns": null,
            "grid_auto_flow": null,
            "grid_auto_rows": null,
            "grid_column": null,
            "grid_gap": null,
            "grid_row": null,
            "grid_template_areas": null,
            "grid_template_columns": null,
            "grid_template_rows": null,
            "height": null,
            "justify_content": null,
            "justify_items": null,
            "left": null,
            "margin": null,
            "max_height": null,
            "max_width": null,
            "min_height": null,
            "min_width": null,
            "object_fit": null,
            "object_position": null,
            "order": null,
            "overflow": null,
            "overflow_x": null,
            "overflow_y": null,
            "padding": null,
            "right": null,
            "top": null,
            "visibility": null,
            "width": null
          }
        },
        "0d071707d5604108b6f174165f877cd8": {
          "model_module": "@jupyter-widgets/controls",
          "model_module_version": "1.5.0",
          "model_name": "HBoxModel",
          "state": {
            "_dom_classes": [],
            "_model_module": "@jupyter-widgets/controls",
            "_model_module_version": "1.5.0",
            "_model_name": "HBoxModel",
            "_view_count": null,
            "_view_module": "@jupyter-widgets/controls",
            "_view_module_version": "1.5.0",
            "_view_name": "HBoxView",
            "box_style": "",
            "children": [
              "IPY_MODEL_7fa0da17f8fb4548a2ec3860a255c749",
              "IPY_MODEL_b8d6dec7454e4ace8ce88c1b26e3b4ae",
              "IPY_MODEL_cd7a48ed061245eb9ef6682a47c42c02"
            ],
            "layout": "IPY_MODEL_c8bea292e03d4dceb88f57a4efac43ea"
          }
        },
        "0e0a03bda6594e22b853d6e5fcdf1686": {
          "model_module": "@jupyter-widgets/controls",
          "model_module_version": "1.5.0",
          "model_name": "HBoxModel",
          "state": {
            "_dom_classes": [],
            "_model_module": "@jupyter-widgets/controls",
            "_model_module_version": "1.5.0",
            "_model_name": "HBoxModel",
            "_view_count": null,
            "_view_module": "@jupyter-widgets/controls",
            "_view_module_version": "1.5.0",
            "_view_name": "HBoxView",
            "box_style": "",
            "children": [
              "IPY_MODEL_baaa47ac5e974d5bb8e901f26e6e9974",
              "IPY_MODEL_7b95e20e846f4b9490ad6db80383d513",
              "IPY_MODEL_50fd6cffc45a4eb685487235d61addf1"
            ],
            "layout": "IPY_MODEL_85a12ec50e404ba1808c4e3b846d7d63"
          }
        },
        "18776b7e48e74f1890643837a713616a": {
          "model_module": "@jupyter-widgets/base",
          "model_module_version": "1.2.0",
          "model_name": "LayoutModel",
          "state": {
            "_model_module": "@jupyter-widgets/base",
            "_model_module_version": "1.2.0",
            "_model_name": "LayoutModel",
            "_view_count": null,
            "_view_module": "@jupyter-widgets/base",
            "_view_module_version": "1.2.0",
            "_view_name": "LayoutView",
            "align_content": null,
            "align_items": null,
            "align_self": null,
            "border": null,
            "bottom": null,
            "display": null,
            "flex": null,
            "flex_flow": null,
            "grid_area": null,
            "grid_auto_columns": null,
            "grid_auto_flow": null,
            "grid_auto_rows": null,
            "grid_column": null,
            "grid_gap": null,
            "grid_row": null,
            "grid_template_areas": null,
            "grid_template_columns": null,
            "grid_template_rows": null,
            "height": null,
            "justify_content": null,
            "justify_items": null,
            "left": null,
            "margin": null,
            "max_height": null,
            "max_width": null,
            "min_height": null,
            "min_width": null,
            "object_fit": null,
            "object_position": null,
            "order": null,
            "overflow": null,
            "overflow_x": null,
            "overflow_y": null,
            "padding": null,
            "right": null,
            "top": null,
            "visibility": null,
            "width": null
          }
        },
        "24cb9206411f497b8da83fec1af309ec": {
          "model_module": "@jupyter-widgets/controls",
          "model_module_version": "1.5.0",
          "model_name": "ProgressStyleModel",
          "state": {
            "_model_module": "@jupyter-widgets/controls",
            "_model_module_version": "1.5.0",
            "_model_name": "ProgressStyleModel",
            "_view_count": null,
            "_view_module": "@jupyter-widgets/base",
            "_view_module_version": "1.2.0",
            "_view_name": "StyleView",
            "bar_color": null,
            "description_width": ""
          }
        },
        "2583937a70f64fddb66ea2000c000a5a": {
          "model_module": "@jupyter-widgets/controls",
          "model_module_version": "1.5.0",
          "model_name": "DescriptionStyleModel",
          "state": {
            "_model_module": "@jupyter-widgets/controls",
            "_model_module_version": "1.5.0",
            "_model_name": "DescriptionStyleModel",
            "_view_count": null,
            "_view_module": "@jupyter-widgets/base",
            "_view_module_version": "1.2.0",
            "_view_name": "StyleView",
            "description_width": ""
          }
        },
        "4137bafdaef7409aa70610aefd0c26dc": {
          "model_module": "@jupyter-widgets/controls",
          "model_module_version": "1.5.0",
          "model_name": "DescriptionStyleModel",
          "state": {
            "_model_module": "@jupyter-widgets/controls",
            "_model_module_version": "1.5.0",
            "_model_name": "DescriptionStyleModel",
            "_view_count": null,
            "_view_module": "@jupyter-widgets/base",
            "_view_module_version": "1.2.0",
            "_view_name": "StyleView",
            "description_width": ""
          }
        },
        "44b8ce99d3b9486fabba24299c151646": {
          "model_module": "@jupyter-widgets/controls",
          "model_module_version": "1.5.0",
          "model_name": "ProgressStyleModel",
          "state": {
            "_model_module": "@jupyter-widgets/controls",
            "_model_module_version": "1.5.0",
            "_model_name": "ProgressStyleModel",
            "_view_count": null,
            "_view_module": "@jupyter-widgets/base",
            "_view_module_version": "1.2.0",
            "_view_name": "StyleView",
            "bar_color": null,
            "description_width": ""
          }
        },
        "4d439f2ddac14a4aa6f2108b25750e9e": {
          "model_module": "@jupyter-widgets/base",
          "model_module_version": "1.2.0",
          "model_name": "LayoutModel",
          "state": {
            "_model_module": "@jupyter-widgets/base",
            "_model_module_version": "1.2.0",
            "_model_name": "LayoutModel",
            "_view_count": null,
            "_view_module": "@jupyter-widgets/base",
            "_view_module_version": "1.2.0",
            "_view_name": "LayoutView",
            "align_content": null,
            "align_items": null,
            "align_self": null,
            "border": null,
            "bottom": null,
            "display": null,
            "flex": null,
            "flex_flow": null,
            "grid_area": null,
            "grid_auto_columns": null,
            "grid_auto_flow": null,
            "grid_auto_rows": null,
            "grid_column": null,
            "grid_gap": null,
            "grid_row": null,
            "grid_template_areas": null,
            "grid_template_columns": null,
            "grid_template_rows": null,
            "height": null,
            "justify_content": null,
            "justify_items": null,
            "left": null,
            "margin": null,
            "max_height": null,
            "max_width": null,
            "min_height": null,
            "min_width": null,
            "object_fit": null,
            "object_position": null,
            "order": null,
            "overflow": null,
            "overflow_x": null,
            "overflow_y": null,
            "padding": null,
            "right": null,
            "top": null,
            "visibility": null,
            "width": null
          }
        },
        "50fd6cffc45a4eb685487235d61addf1": {
          "model_module": "@jupyter-widgets/controls",
          "model_module_version": "1.5.0",
          "model_name": "HTMLModel",
          "state": {
            "_dom_classes": [],
            "_model_module": "@jupyter-widgets/controls",
            "_model_module_version": "1.5.0",
            "_model_name": "HTMLModel",
            "_view_count": null,
            "_view_module": "@jupyter-widgets/controls",
            "_view_module_version": "1.5.0",
            "_view_name": "HTMLView",
            "description": "",
            "description_tooltip": null,
            "layout": "IPY_MODEL_5a7d326fc11d46e58a2c77054b7c2886",
            "placeholder": "​",
            "style": "IPY_MODEL_033c5e20d082452883632d3beec9db0b",
            "value": " 451/0 [00:00&lt;00:00, 4922.24 examples/s]"
          }
        },
        "575ab37305a847b5bde7986d2e562559": {
          "model_module": "@jupyter-widgets/controls",
          "model_module_version": "1.5.0",
          "model_name": "DescriptionStyleModel",
          "state": {
            "_model_module": "@jupyter-widgets/controls",
            "_model_module_version": "1.5.0",
            "_model_name": "DescriptionStyleModel",
            "_view_count": null,
            "_view_module": "@jupyter-widgets/base",
            "_view_module_version": "1.2.0",
            "_view_name": "StyleView",
            "description_width": ""
          }
        },
        "5a7d326fc11d46e58a2c77054b7c2886": {
          "model_module": "@jupyter-widgets/base",
          "model_module_version": "1.2.0",
          "model_name": "LayoutModel",
          "state": {
            "_model_module": "@jupyter-widgets/base",
            "_model_module_version": "1.2.0",
            "_model_name": "LayoutModel",
            "_view_count": null,
            "_view_module": "@jupyter-widgets/base",
            "_view_module_version": "1.2.0",
            "_view_name": "LayoutView",
            "align_content": null,
            "align_items": null,
            "align_self": null,
            "border": null,
            "bottom": null,
            "display": null,
            "flex": null,
            "flex_flow": null,
            "grid_area": null,
            "grid_auto_columns": null,
            "grid_auto_flow": null,
            "grid_auto_rows": null,
            "grid_column": null,
            "grid_gap": null,
            "grid_row": null,
            "grid_template_areas": null,
            "grid_template_columns": null,
            "grid_template_rows": null,
            "height": null,
            "justify_content": null,
            "justify_items": null,
            "left": null,
            "margin": null,
            "max_height": null,
            "max_width": null,
            "min_height": null,
            "min_width": null,
            "object_fit": null,
            "object_position": null,
            "order": null,
            "overflow": null,
            "overflow_x": null,
            "overflow_y": null,
            "padding": null,
            "right": null,
            "top": null,
            "visibility": null,
            "width": null
          }
        },
        "5acad1f0270243538bbf5e64ffe8f821": {
          "model_module": "@jupyter-widgets/base",
          "model_module_version": "1.2.0",
          "model_name": "LayoutModel",
          "state": {
            "_model_module": "@jupyter-widgets/base",
            "_model_module_version": "1.2.0",
            "_model_name": "LayoutModel",
            "_view_count": null,
            "_view_module": "@jupyter-widgets/base",
            "_view_module_version": "1.2.0",
            "_view_name": "LayoutView",
            "align_content": null,
            "align_items": null,
            "align_self": null,
            "border": null,
            "bottom": null,
            "display": null,
            "flex": null,
            "flex_flow": null,
            "grid_area": null,
            "grid_auto_columns": null,
            "grid_auto_flow": null,
            "grid_auto_rows": null,
            "grid_column": null,
            "grid_gap": null,
            "grid_row": null,
            "grid_template_areas": null,
            "grid_template_columns": null,
            "grid_template_rows": null,
            "height": null,
            "justify_content": null,
            "justify_items": null,
            "left": null,
            "margin": null,
            "max_height": null,
            "max_width": null,
            "min_height": null,
            "min_width": null,
            "object_fit": null,
            "object_position": null,
            "order": null,
            "overflow": null,
            "overflow_x": null,
            "overflow_y": null,
            "padding": null,
            "right": null,
            "top": null,
            "visibility": null,
            "width": null
          }
        },
        "5c3192809da64a12b199f2f4afd0ff05": {
          "model_module": "@jupyter-widgets/base",
          "model_module_version": "1.2.0",
          "model_name": "LayoutModel",
          "state": {
            "_model_module": "@jupyter-widgets/base",
            "_model_module_version": "1.2.0",
            "_model_name": "LayoutModel",
            "_view_count": null,
            "_view_module": "@jupyter-widgets/base",
            "_view_module_version": "1.2.0",
            "_view_name": "LayoutView",
            "align_content": null,
            "align_items": null,
            "align_self": null,
            "border": null,
            "bottom": null,
            "display": null,
            "flex": null,
            "flex_flow": null,
            "grid_area": null,
            "grid_auto_columns": null,
            "grid_auto_flow": null,
            "grid_auto_rows": null,
            "grid_column": null,
            "grid_gap": null,
            "grid_row": null,
            "grid_template_areas": null,
            "grid_template_columns": null,
            "grid_template_rows": null,
            "height": null,
            "justify_content": null,
            "justify_items": null,
            "left": null,
            "margin": null,
            "max_height": null,
            "max_width": null,
            "min_height": null,
            "min_width": null,
            "object_fit": null,
            "object_position": null,
            "order": null,
            "overflow": null,
            "overflow_x": null,
            "overflow_y": null,
            "padding": null,
            "right": null,
            "top": null,
            "visibility": null,
            "width": null
          }
        },
        "6200874e82c047848ea61f34f615b7f3": {
          "model_module": "@jupyter-widgets/controls",
          "model_module_version": "1.5.0",
          "model_name": "DescriptionStyleModel",
          "state": {
            "_model_module": "@jupyter-widgets/controls",
            "_model_module_version": "1.5.0",
            "_model_name": "DescriptionStyleModel",
            "_view_count": null,
            "_view_module": "@jupyter-widgets/base",
            "_view_module_version": "1.2.0",
            "_view_name": "StyleView",
            "description_width": ""
          }
        },
        "6654e3cbedcd441bb2479fd5fb62b8ef": {
          "model_module": "@jupyter-widgets/controls",
          "model_module_version": "1.5.0",
          "model_name": "HBoxModel",
          "state": {
            "_dom_classes": [],
            "_model_module": "@jupyter-widgets/controls",
            "_model_module_version": "1.5.0",
            "_model_name": "HBoxModel",
            "_view_count": null,
            "_view_module": "@jupyter-widgets/controls",
            "_view_module_version": "1.5.0",
            "_view_name": "HBoxView",
            "box_style": "",
            "children": [
              "IPY_MODEL_c447004b12844d3497ccae3e0f1ae7e5",
              "IPY_MODEL_bf0c120b40c14958941a7f43727e562a",
              "IPY_MODEL_f635d7f9e23e4e3ca66e13ea8d5f83d4"
            ],
            "layout": "IPY_MODEL_5c3192809da64a12b199f2f4afd0ff05"
          }
        },
        "66a53550bc1c442e87641cae14f87ad6": {
          "model_module": "@jupyter-widgets/base",
          "model_module_version": "1.2.0",
          "model_name": "LayoutModel",
          "state": {
            "_model_module": "@jupyter-widgets/base",
            "_model_module_version": "1.2.0",
            "_model_name": "LayoutModel",
            "_view_count": null,
            "_view_module": "@jupyter-widgets/base",
            "_view_module_version": "1.2.0",
            "_view_name": "LayoutView",
            "align_content": null,
            "align_items": null,
            "align_self": null,
            "border": null,
            "bottom": null,
            "display": null,
            "flex": null,
            "flex_flow": null,
            "grid_area": null,
            "grid_auto_columns": null,
            "grid_auto_flow": null,
            "grid_auto_rows": null,
            "grid_column": null,
            "grid_gap": null,
            "grid_row": null,
            "grid_template_areas": null,
            "grid_template_columns": null,
            "grid_template_rows": null,
            "height": null,
            "justify_content": null,
            "justify_items": null,
            "left": null,
            "margin": null,
            "max_height": null,
            "max_width": null,
            "min_height": null,
            "min_width": null,
            "object_fit": null,
            "object_position": null,
            "order": null,
            "overflow": null,
            "overflow_x": null,
            "overflow_y": null,
            "padding": null,
            "right": null,
            "top": null,
            "visibility": null,
            "width": null
          }
        },
        "723d3b6936184a6fa21818492a68f6c7": {
          "model_module": "@jupyter-widgets/base",
          "model_module_version": "1.2.0",
          "model_name": "LayoutModel",
          "state": {
            "_model_module": "@jupyter-widgets/base",
            "_model_module_version": "1.2.0",
            "_model_name": "LayoutModel",
            "_view_count": null,
            "_view_module": "@jupyter-widgets/base",
            "_view_module_version": "1.2.0",
            "_view_name": "LayoutView",
            "align_content": null,
            "align_items": null,
            "align_self": null,
            "border": null,
            "bottom": null,
            "display": null,
            "flex": null,
            "flex_flow": null,
            "grid_area": null,
            "grid_auto_columns": null,
            "grid_auto_flow": null,
            "grid_auto_rows": null,
            "grid_column": null,
            "grid_gap": null,
            "grid_row": null,
            "grid_template_areas": null,
            "grid_template_columns": null,
            "grid_template_rows": null,
            "height": null,
            "justify_content": null,
            "justify_items": null,
            "left": null,
            "margin": null,
            "max_height": null,
            "max_width": null,
            "min_height": null,
            "min_width": null,
            "object_fit": null,
            "object_position": null,
            "order": null,
            "overflow": null,
            "overflow_x": null,
            "overflow_y": null,
            "padding": null,
            "right": null,
            "top": null,
            "visibility": null,
            "width": "20px"
          }
        },
        "78d268859ea14e538539044d537a90b6": {
          "model_module": "@jupyter-widgets/controls",
          "model_module_version": "1.5.0",
          "model_name": "DescriptionStyleModel",
          "state": {
            "_model_module": "@jupyter-widgets/controls",
            "_model_module_version": "1.5.0",
            "_model_name": "DescriptionStyleModel",
            "_view_count": null,
            "_view_module": "@jupyter-widgets/base",
            "_view_module_version": "1.2.0",
            "_view_name": "StyleView",
            "description_width": ""
          }
        },
        "7b95e20e846f4b9490ad6db80383d513": {
          "model_module": "@jupyter-widgets/controls",
          "model_module_version": "1.5.0",
          "model_name": "FloatProgressModel",
          "state": {
            "_dom_classes": [],
            "_model_module": "@jupyter-widgets/controls",
            "_model_module_version": "1.5.0",
            "_model_name": "FloatProgressModel",
            "_view_count": null,
            "_view_module": "@jupyter-widgets/controls",
            "_view_module_version": "1.5.0",
            "_view_name": "ProgressView",
            "bar_style": "success",
            "description": "",
            "description_tooltip": null,
            "layout": "IPY_MODEL_723d3b6936184a6fa21818492a68f6c7",
            "max": 1,
            "min": 0,
            "orientation": "horizontal",
            "style": "IPY_MODEL_24cb9206411f497b8da83fec1af309ec",
            "value": 1
          }
        },
        "7fa0da17f8fb4548a2ec3860a255c749": {
          "model_module": "@jupyter-widgets/controls",
          "model_module_version": "1.5.0",
          "model_name": "HTMLModel",
          "state": {
            "_dom_classes": [],
            "_model_module": "@jupyter-widgets/controls",
            "_model_module_version": "1.5.0",
            "_model_name": "HTMLModel",
            "_view_count": null,
            "_view_module": "@jupyter-widgets/controls",
            "_view_module_version": "1.5.0",
            "_view_name": "HTMLView",
            "description": "",
            "description_tooltip": null,
            "layout": "IPY_MODEL_66a53550bc1c442e87641cae14f87ad6",
            "placeholder": "​",
            "style": "IPY_MODEL_2583937a70f64fddb66ea2000c000a5a",
            "value": "Map: 100%"
          }
        },
        "85a12ec50e404ba1808c4e3b846d7d63": {
          "model_module": "@jupyter-widgets/base",
          "model_module_version": "1.2.0",
          "model_name": "LayoutModel",
          "state": {
            "_model_module": "@jupyter-widgets/base",
            "_model_module_version": "1.2.0",
            "_model_name": "LayoutModel",
            "_view_count": null,
            "_view_module": "@jupyter-widgets/base",
            "_view_module_version": "1.2.0",
            "_view_name": "LayoutView",
            "align_content": null,
            "align_items": null,
            "align_self": null,
            "border": null,
            "bottom": null,
            "display": null,
            "flex": null,
            "flex_flow": null,
            "grid_area": null,
            "grid_auto_columns": null,
            "grid_auto_flow": null,
            "grid_auto_rows": null,
            "grid_column": null,
            "grid_gap": null,
            "grid_row": null,
            "grid_template_areas": null,
            "grid_template_columns": null,
            "grid_template_rows": null,
            "height": null,
            "justify_content": null,
            "justify_items": null,
            "left": null,
            "margin": null,
            "max_height": null,
            "max_width": null,
            "min_height": null,
            "min_width": null,
            "object_fit": null,
            "object_position": null,
            "order": null,
            "overflow": null,
            "overflow_x": null,
            "overflow_y": null,
            "padding": null,
            "right": null,
            "top": null,
            "visibility": null,
            "width": null
          }
        },
        "ad920a3520764f0cb654280c872f4772": {
          "model_module": "@jupyter-widgets/controls",
          "model_module_version": "1.5.0",
          "model_name": "ProgressStyleModel",
          "state": {
            "_model_module": "@jupyter-widgets/controls",
            "_model_module_version": "1.5.0",
            "_model_name": "ProgressStyleModel",
            "_view_count": null,
            "_view_module": "@jupyter-widgets/base",
            "_view_module_version": "1.2.0",
            "_view_name": "StyleView",
            "bar_color": null,
            "description_width": ""
          }
        },
        "b8d6dec7454e4ace8ce88c1b26e3b4ae": {
          "model_module": "@jupyter-widgets/controls",
          "model_module_version": "1.5.0",
          "model_name": "FloatProgressModel",
          "state": {
            "_dom_classes": [],
            "_model_module": "@jupyter-widgets/controls",
            "_model_module_version": "1.5.0",
            "_model_name": "FloatProgressModel",
            "_view_count": null,
            "_view_module": "@jupyter-widgets/controls",
            "_view_module_version": "1.5.0",
            "_view_name": "ProgressView",
            "bar_style": "success",
            "description": "",
            "description_tooltip": null,
            "layout": "IPY_MODEL_4d439f2ddac14a4aa6f2108b25750e9e",
            "max": 405,
            "min": 0,
            "orientation": "horizontal",
            "style": "IPY_MODEL_44b8ce99d3b9486fabba24299c151646",
            "value": 405
          }
        },
        "baaa47ac5e974d5bb8e901f26e6e9974": {
          "model_module": "@jupyter-widgets/controls",
          "model_module_version": "1.5.0",
          "model_name": "HTMLModel",
          "state": {
            "_dom_classes": [],
            "_model_module": "@jupyter-widgets/controls",
            "_model_module_version": "1.5.0",
            "_model_name": "HTMLModel",
            "_view_count": null,
            "_view_module": "@jupyter-widgets/controls",
            "_view_module_version": "1.5.0",
            "_view_name": "HTMLView",
            "description": "",
            "description_tooltip": null,
            "layout": "IPY_MODEL_5acad1f0270243538bbf5e64ffe8f821",
            "placeholder": "​",
            "style": "IPY_MODEL_78d268859ea14e538539044d537a90b6",
            "value": "Generating train split: "
          }
        },
        "bf0c120b40c14958941a7f43727e562a": {
          "model_module": "@jupyter-widgets/controls",
          "model_module_version": "1.5.0",
          "model_name": "FloatProgressModel",
          "state": {
            "_dom_classes": [],
            "_model_module": "@jupyter-widgets/controls",
            "_model_module_version": "1.5.0",
            "_model_name": "FloatProgressModel",
            "_view_count": null,
            "_view_module": "@jupyter-widgets/controls",
            "_view_module_version": "1.5.0",
            "_view_name": "ProgressView",
            "bar_style": "success",
            "description": "",
            "description_tooltip": null,
            "layout": "IPY_MODEL_0c32b9c7b8bc4e759306c1960e8af60c",
            "max": 46,
            "min": 0,
            "orientation": "horizontal",
            "style": "IPY_MODEL_ad920a3520764f0cb654280c872f4772",
            "value": 46
          }
        },
        "c447004b12844d3497ccae3e0f1ae7e5": {
          "model_module": "@jupyter-widgets/controls",
          "model_module_version": "1.5.0",
          "model_name": "HTMLModel",
          "state": {
            "_dom_classes": [],
            "_model_module": "@jupyter-widgets/controls",
            "_model_module_version": "1.5.0",
            "_model_name": "HTMLModel",
            "_view_count": null,
            "_view_module": "@jupyter-widgets/controls",
            "_view_module_version": "1.5.0",
            "_view_name": "HTMLView",
            "description": "",
            "description_tooltip": null,
            "layout": "IPY_MODEL_18776b7e48e74f1890643837a713616a",
            "placeholder": "​",
            "style": "IPY_MODEL_6200874e82c047848ea61f34f615b7f3",
            "value": "Map: 100%"
          }
        },
        "c8bea292e03d4dceb88f57a4efac43ea": {
          "model_module": "@jupyter-widgets/base",
          "model_module_version": "1.2.0",
          "model_name": "LayoutModel",
          "state": {
            "_model_module": "@jupyter-widgets/base",
            "_model_module_version": "1.2.0",
            "_model_name": "LayoutModel",
            "_view_count": null,
            "_view_module": "@jupyter-widgets/base",
            "_view_module_version": "1.2.0",
            "_view_name": "LayoutView",
            "align_content": null,
            "align_items": null,
            "align_self": null,
            "border": null,
            "bottom": null,
            "display": null,
            "flex": null,
            "flex_flow": null,
            "grid_area": null,
            "grid_auto_columns": null,
            "grid_auto_flow": null,
            "grid_auto_rows": null,
            "grid_column": null,
            "grid_gap": null,
            "grid_row": null,
            "grid_template_areas": null,
            "grid_template_columns": null,
            "grid_template_rows": null,
            "height": null,
            "justify_content": null,
            "justify_items": null,
            "left": null,
            "margin": null,
            "max_height": null,
            "max_width": null,
            "min_height": null,
            "min_width": null,
            "object_fit": null,
            "object_position": null,
            "order": null,
            "overflow": null,
            "overflow_x": null,
            "overflow_y": null,
            "padding": null,
            "right": null,
            "top": null,
            "visibility": null,
            "width": null
          }
        },
        "ca744d898651417c8a1e7e0c53e0ba35": {
          "model_module": "@jupyter-widgets/base",
          "model_module_version": "1.2.0",
          "model_name": "LayoutModel",
          "state": {
            "_model_module": "@jupyter-widgets/base",
            "_model_module_version": "1.2.0",
            "_model_name": "LayoutModel",
            "_view_count": null,
            "_view_module": "@jupyter-widgets/base",
            "_view_module_version": "1.2.0",
            "_view_name": "LayoutView",
            "align_content": null,
            "align_items": null,
            "align_self": null,
            "border": null,
            "bottom": null,
            "display": null,
            "flex": null,
            "flex_flow": null,
            "grid_area": null,
            "grid_auto_columns": null,
            "grid_auto_flow": null,
            "grid_auto_rows": null,
            "grid_column": null,
            "grid_gap": null,
            "grid_row": null,
            "grid_template_areas": null,
            "grid_template_columns": null,
            "grid_template_rows": null,
            "height": null,
            "justify_content": null,
            "justify_items": null,
            "left": null,
            "margin": null,
            "max_height": null,
            "max_width": null,
            "min_height": null,
            "min_width": null,
            "object_fit": null,
            "object_position": null,
            "order": null,
            "overflow": null,
            "overflow_x": null,
            "overflow_y": null,
            "padding": null,
            "right": null,
            "top": null,
            "visibility": null,
            "width": null
          }
        },
        "cd7a48ed061245eb9ef6682a47c42c02": {
          "model_module": "@jupyter-widgets/controls",
          "model_module_version": "1.5.0",
          "model_name": "HTMLModel",
          "state": {
            "_dom_classes": [],
            "_model_module": "@jupyter-widgets/controls",
            "_model_module_version": "1.5.0",
            "_model_name": "HTMLModel",
            "_view_count": null,
            "_view_module": "@jupyter-widgets/controls",
            "_view_module_version": "1.5.0",
            "_view_name": "HTMLView",
            "description": "",
            "description_tooltip": null,
            "layout": "IPY_MODEL_ca744d898651417c8a1e7e0c53e0ba35",
            "placeholder": "​",
            "style": "IPY_MODEL_575ab37305a847b5bde7986d2e562559",
            "value": " 405/405 [00:02&lt;00:00, 160.49 examples/s]"
          }
        },
        "dd1ebf9428494eda9ad6e006dd4888e7": {
          "model_module": "@jupyter-widgets/base",
          "model_module_version": "1.2.0",
          "model_name": "LayoutModel",
          "state": {
            "_model_module": "@jupyter-widgets/base",
            "_model_module_version": "1.2.0",
            "_model_name": "LayoutModel",
            "_view_count": null,
            "_view_module": "@jupyter-widgets/base",
            "_view_module_version": "1.2.0",
            "_view_name": "LayoutView",
            "align_content": null,
            "align_items": null,
            "align_self": null,
            "border": null,
            "bottom": null,
            "display": null,
            "flex": null,
            "flex_flow": null,
            "grid_area": null,
            "grid_auto_columns": null,
            "grid_auto_flow": null,
            "grid_auto_rows": null,
            "grid_column": null,
            "grid_gap": null,
            "grid_row": null,
            "grid_template_areas": null,
            "grid_template_columns": null,
            "grid_template_rows": null,
            "height": null,
            "justify_content": null,
            "justify_items": null,
            "left": null,
            "margin": null,
            "max_height": null,
            "max_width": null,
            "min_height": null,
            "min_width": null,
            "object_fit": null,
            "object_position": null,
            "order": null,
            "overflow": null,
            "overflow_x": null,
            "overflow_y": null,
            "padding": null,
            "right": null,
            "top": null,
            "visibility": null,
            "width": null
          }
        },
        "f635d7f9e23e4e3ca66e13ea8d5f83d4": {
          "model_module": "@jupyter-widgets/controls",
          "model_module_version": "1.5.0",
          "model_name": "HTMLModel",
          "state": {
            "_dom_classes": [],
            "_model_module": "@jupyter-widgets/controls",
            "_model_module_version": "1.5.0",
            "_model_name": "HTMLModel",
            "_view_count": null,
            "_view_module": "@jupyter-widgets/controls",
            "_view_module_version": "1.5.0",
            "_view_name": "HTMLView",
            "description": "",
            "description_tooltip": null,
            "layout": "IPY_MODEL_dd1ebf9428494eda9ad6e006dd4888e7",
            "placeholder": "​",
            "style": "IPY_MODEL_4137bafdaef7409aa70610aefd0c26dc",
            "value": " 46/46 [00:00&lt;00:00, 250.37 examples/s]"
          }
        }
      }
    }
  },
  "nbformat": 4,
  "nbformat_minor": 0
}
